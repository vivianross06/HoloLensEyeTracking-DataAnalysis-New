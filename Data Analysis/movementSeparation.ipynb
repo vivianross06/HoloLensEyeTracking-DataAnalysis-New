{
 "cells": [
  {
   "cell_type": "code",
   "execution_count": 1,
   "metadata": {},
   "outputs": [],
   "source": [
    "import numpy as np\n",
    "import pandas as pd\n",
    "import os\n",
    "from datetime import datetime, timedelta\n",
    "import matplotlib.pyplot as plt"
   ]
  },
  {
   "cell_type": "code",
   "execution_count": 23,
   "metadata": {},
   "outputs": [],
   "source": [
    "data_directory = \"../Data/\"\n",
    "hololenses = ['A/', 'B/']\n",
    "intermediate = 'sessions/2/'\n",
    "subdirectory = \"recalibrated_calibration/\""
   ]
  },
  {
   "cell_type": "code",
   "execution_count": 3,
   "metadata": {},
   "outputs": [],
   "source": [
    "def clean_df(df):\n",
    "    result = df.loc[(df['Movement'] != \"start\") & (df['Movement'] != \"transition\") & (df['EyeTrackingEnabled'] == True) & (df['EyeCalibrationValid'] == True) & (df['EyeTrackingEnabledAndValid'] == True) & (df['EyeTrackingDataValid'] == True) & (df['GazeInputSource'] == \"Eyes\")].copy()\n",
    "    result.reset_index(inplace=True, drop=True)\n",
    "    return result"
   ]
  },
  {
   "cell_type": "code",
   "execution_count": 4,
   "metadata": {},
   "outputs": [],
   "source": [
    "def separate_moving_static(df):\n",
    "    moving_df = df.loc[df['Movement'] == \"moving\"].copy()\n",
    "    static_df = df.loc[df['Movement'] == \"static\"].copy()\n",
    "    return [moving_df, static_df]"
   ]
  },
  {
   "cell_type": "code",
   "execution_count": 19,
   "metadata": {},
   "outputs": [],
   "source": [
    "def separate_movement_files():\n",
    "    for hololens in hololenses:\n",
    "        participantList = os.listdir(data_directory + hololens)\n",
    "        for participant in participantList:\n",
    "            print(participant)\n",
    "            if participant == '.DS_Store':\n",
    "                print(\"Skipping movement separation\")\n",
    "                continue\n",
    "            if os.path.exists(data_directory + hololens + participant + '/' + intermediate + 'moving/' + subdirectory) and os.path.exists(data_directory + hololens + participant + '/' + intermediate + 'static/' + subdirectory) and not len(os.listdir(data_directory + hololens + participant + '/' + intermediate + 'moving/' + subdirectory)) < 6 and not len(os.listdir(data_directory + hololens + participant + '/' + intermediate + 'static/' + subdirectory)) < 6:\n",
    "                print(\"Already separated\")\n",
    "                continue\n",
    "            fileList = os.listdir(data_directory + hololens + participant + '/' + intermediate + subdirectory)\n",
    "            for file in fileList:\n",
    "                filePath = data_directory + hololens + participant + '/' + intermediate + subdirectory + file\n",
    "                if '.csv' in file:\n",
    "                    df = pd.read_csv(filePath)\n",
    "                    df = clean_df(df)\n",
    "                    [moving_df, static_df] = separate_moving_static(df)\n",
    "                    if not os.path.exists(data_directory + hololens + participant + '/' + intermediate + 'moving/' + subdirectory):\n",
    "                        os.makedirs(data_directory + hololens + participant + '/' + intermediate + 'moving/' + subdirectory)\n",
    "                    if not os.path.exists(data_directory + hololens + participant + '/' + intermediate + 'static/' + subdirectory):\n",
    "                        os.makedirs(data_directory + hololens + participant + '/' + intermediate + 'static/' + subdirectory)\n",
    "                    if \"calibration\" in file:\n",
    "                        df.to_csv(data_directory + hololens + participant + '/' + intermediate + 'moving/' + subdirectory + file)\n",
    "                        df.to_csv(data_directory + hololens + participant + '/' + intermediate + 'static/' + subdirectory + file)\n",
    "                    else:\n",
    "                        if not moving_df.empty:\n",
    "                            moving_df.to_csv(data_directory + hololens + participant + '/' + intermediate + 'moving/' + subdirectory + file.split('.')[0] + \"_moving.csv\")\n",
    "                        if not static_df.empty:\n",
    "                            static_df.to_csv(data_directory + hololens + participant + '/' + intermediate + 'static/' + subdirectory + file.split('.')[0] + \"_static.csv\")"
   ]
  },
  {
   "cell_type": "code",
   "execution_count": 24,
   "metadata": {},
   "outputs": [
    {
     "name": "stdout",
     "output_type": "stream",
     "text": [
      "03\n",
      "04\n",
      "32\n",
      "34\n",
      "05\n",
      "02\n",
      ".DS_Store\n",
      "Skipping movement separation\n",
      "18\n",
      "27\n",
      "29\n",
      "10\n",
      "19\n",
      "43\n",
      "07\n",
      "36\n",
      "09\n",
      "53\n",
      "37\n",
      "08\n",
      "01\n",
      "06\n",
      "39\n",
      "52\n",
      "46\n",
      "41\n",
      "49\n",
      "47\n",
      "25\n",
      "50\n",
      "35\n",
      "51\n",
      "33\n",
      ".DS_Store\n",
      "Skipping movement separation\n",
      "20\n",
      "11\n",
      "16\n",
      "42\n",
      "45\n",
      "28\n",
      "17\n",
      "26\n",
      "21\n",
      "44\n",
      "38\n",
      "31\n",
      "54\n",
      "30\n",
      "48\n",
      "24\n",
      "23\n",
      "15\n",
      "12\n",
      "40\n",
      "13\n",
      "14\n",
      "22\n"
     ]
    }
   ],
   "source": [
    "separate_movement_files()"
   ]
  }
 ],
 "metadata": {
  "kernelspec": {
   "display_name": "base",
   "language": "python",
   "name": "python3"
  },
  "language_info": {
   "codemirror_mode": {
    "name": "ipython",
    "version": 3
   },
   "file_extension": ".py",
   "mimetype": "text/x-python",
   "name": "python",
   "nbconvert_exporter": "python",
   "pygments_lexer": "ipython3",
   "version": "3.8.5"
  },
  "orig_nbformat": 4
 },
 "nbformat": 4,
 "nbformat_minor": 2
}
