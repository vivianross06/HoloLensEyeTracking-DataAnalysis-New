{
 "cells": [
  {
   "cell_type": "code",
   "execution_count": 2,
   "metadata": {},
   "outputs": [],
   "source": [
    "import os\n",
    "import shutil"
   ]
  },
  {
   "cell_type": "code",
   "execution_count": 3,
   "metadata": {},
   "outputs": [],
   "source": [
    "data_directory = '../Data/'\n",
    "hololenses = ['A/', 'B/']\n",
    "subdirectory = 'shifted/'"
   ]
  },
  {
   "cell_type": "code",
   "execution_count": 6,
   "metadata": {},
   "outputs": [],
   "source": [
    "def separate_sessions():\n",
    "    for hololens in hololenses:\n",
    "        participants = os.listdir(data_directory + hololens)\n",
    "        for participant in participants:\n",
    "            print(participant)\n",
    "            if os.path.exists(data_directory + hololens + participant + '/sessions/1') and os.path.exists(data_directory + hololens + participant + '/sessions/2') and len(os.listdir(data_directory + hololens + participant + '/sessions/1')) > 0 and len(os.listdir(data_directory + hololens + participant + '/sessions/2')) > 0:\n",
    "                print(\"already separated\")\n",
    "                continue\n",
    "            elif participant == '.DS_Store':\n",
    "                print(\"skipping separation\")\n",
    "                continue\n",
    "            else:\n",
    "                directory = data_directory + hololens + participant + '/'\n",
    "                fileList = os.listdir(directory + subdirectory)\n",
    "                if '.DS_Store' in fileList:\n",
    "                    fileList.remove('.DS_Store')\n",
    "                fileList = sorted(fileList)\n",
    "                if not os.path.exists(directory + 'sessions/1/' + subdirectory):\n",
    "                    os.makedirs(directory + 'sessions/1/' + subdirectory)\n",
    "                if not os.path.exists(directory + 'sessions/2/' + subdirectory):\n",
    "                    os.makedirs(directory + 'sessions/2/' + subdirectory)\n",
    "                for i in range(len(fileList)):\n",
    "                    if i % 2 == 0:\n",
    "                        shutil.copy2(directory + subdirectory + fileList[i], directory + 'sessions/1/' + subdirectory)\n",
    "                    else:\n",
    "                        shutil.copy2(directory + subdirectory + fileList[i], directory + 'sessions/2/' + subdirectory)"
   ]
  },
  {
   "cell_type": "code",
   "execution_count": 7,
   "metadata": {},
   "outputs": [
    {
     "name": "stdout",
     "output_type": "stream",
     "text": [
      "03\n",
      "04\n",
      "32\n",
      "34\n",
      "05\n",
      "02\n",
      ".DS_Store\n",
      "skipping separation\n",
      "18\n",
      "27\n",
      "29\n",
      "10\n",
      "19\n",
      "43\n",
      "07\n",
      "36\n",
      "09\n",
      "53\n",
      "37\n",
      "08\n",
      "01\n",
      "06\n",
      "39\n",
      "52\n",
      "46\n",
      "41\n",
      "49\n",
      "47\n",
      "25\n",
      "50\n",
      "35\n",
      "51\n",
      "33\n",
      ".DS_Store\n",
      "skipping separation\n",
      "20\n",
      "11\n",
      "16\n",
      "42\n",
      "45\n",
      "28\n",
      "17\n",
      "26\n",
      "21\n",
      "44\n",
      "38\n",
      "31\n",
      "54\n",
      "30\n",
      "48\n",
      "24\n",
      "23\n",
      "15\n",
      "12\n",
      "40\n",
      "13\n",
      "14\n",
      "22\n"
     ]
    }
   ],
   "source": [
    "separate_sessions()"
   ]
  }
 ],
 "metadata": {
  "kernelspec": {
   "display_name": "base",
   "language": "python",
   "name": "python3"
  },
  "language_info": {
   "codemirror_mode": {
    "name": "ipython",
    "version": 3
   },
   "file_extension": ".py",
   "mimetype": "text/x-python",
   "name": "python",
   "nbconvert_exporter": "python",
   "pygments_lexer": "ipython3",
   "version": "3.8.5"
  },
  "orig_nbformat": 4
 },
 "nbformat": 4,
 "nbformat_minor": 2
}
