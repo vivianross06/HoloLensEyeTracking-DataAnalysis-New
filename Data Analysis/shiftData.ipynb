{
 "cells": [
  {
   "cell_type": "code",
   "execution_count": 1,
   "metadata": {},
   "outputs": [],
   "source": [
    "import numpy as np\n",
    "import pandas as pd\n",
    "import os\n",
    "import math\n",
    "from datetime import datetime, timedelta\n",
    "import matplotlib.pyplot as plt\n",
    "from scipy.stats.stats import pearsonr"
   ]
  },
  {
   "cell_type": "code",
   "execution_count": 16,
   "metadata": {},
   "outputs": [],
   "source": [
    "data_directory = '../Data/'\n",
    "hololenses = ['A/', 'B/']"
   ]
  },
  {
   "cell_type": "code",
   "execution_count": 3,
   "metadata": {},
   "outputs": [],
   "source": [
    "def clean_df(df):\n",
    "    result = df.loc[(df['Movement'] != \"start\") & (df['Movement'] != \"transition\") & (df['EyeTrackingEnabled'] == True) & (df['EyeCalibrationValid'] == True) & (df['EyeTrackingEnabledAndValid'] == True) & (df['EyeTrackingDataValid'] == True) & (df['GazeInputSource'] == \"Eyes\")].copy()\n",
    "    #result = result[result['Movement'] != \"transition\"]\n",
    "    #result = result[result['EyeTrackingDataValid'] == 'TRUE']\n",
    "    #result = result[result['GazeInputSource'] == 'Eyes']\n",
    "    result.reset_index(inplace=True, drop=True)\n",
    "    return result"
   ]
  },
  {
   "cell_type": "code",
   "execution_count": 4,
   "metadata": {},
   "outputs": [],
   "source": [
    "def calculate_euclidean_error(df):\n",
    "    df['euclideanError'] = np.sqrt((df.GazeAngleX-df.TargetAngleX) * (df.GazeAngleX-df.TargetAngleX) + (df.GazeAngleY-df.TargetAngleY) * (df.GazeAngleY-df.TargetAngleY))\n",
    "    return df"
   ]
  },
  {
   "cell_type": "code",
   "execution_count": 5,
   "metadata": {},
   "outputs": [],
   "source": [
    "def shift_df(df, shift):\n",
    "    if shift == 0:\n",
    "        shifted_df = df.copy()\n",
    "    else:\n",
    "        shifted_df = df.copy()[:-shift]\n",
    "    shifted_df.loc[:, ~shifted_df.columns.isin(['TargetAngleX', 'TargetAngleY', 'transform.position.x', 'transform.position.y', 'transform.position.z', 'localTransform.position.x', 'localTransform.position.y', 'localTransform.position.z', 'Movement'])] = df.loc[shift:, ~df.columns.isin(['TargetAngleX', 'TargetAngleY', 'transform.position.x', 'transform.position.y', 'transform.position.z', 'localTransform.position.x', 'localTransform.position.y', 'localTransform.position.z', 'Movement'])].to_numpy()\n",
    "    #shifted_df.GazeAngleX = df['GazeAngleX'][shift:].values\n",
    "    #shifted_df.GazeAngleY = df['GazeAngleY'][shift:].values\n",
    "    return shifted_df\n"
   ]
  },
  {
   "cell_type": "code",
   "execution_count": 6,
   "metadata": {},
   "outputs": [],
   "source": [
    "def find_best_shifted_df(df):\n",
    "    startTime = datetime.strptime(df['Time'].iloc[0], \"%m/%d/%Y %H:%M:%S.%f\")\n",
    "    shiftIndex = 0\n",
    "    shiftTime = datetime.strptime(df['Time'].iloc[shiftIndex], \"%m/%d/%Y %H:%M:%S.%f\")\n",
    "    timeDifference = shiftTime - startTime\n",
    "    minError = float('inf')\n",
    "    result = df\n",
    "    bestShiftIndex = 0\n",
    "    while (timeDifference.seconds < 1 and timeDifference.microseconds < 800000):\n",
    "        shifted_df = shift_df(df, shiftIndex)\n",
    "        shifted_df = calculate_euclidean_error(shifted_df)\n",
    "        currentError = shifted_df['euclideanError'].mean()\n",
    "        if (currentError < minError):\n",
    "            minError = currentError\n",
    "            result = shifted_df\n",
    "            bestShiftIndex = shiftIndex\n",
    "        shiftIndex = shiftIndex + 1\n",
    "        shiftTime = datetime.strptime(df['Time'].iloc[shiftIndex], \"%m/%d/%Y %H:%M:%S.%f\")\n",
    "        timeDifference = shiftTime - startTime\n",
    "    result.drop(columns=['euclideanError'], inplace=True)\n",
    "    return [bestShiftIndex, result]"
   ]
  },
  {
   "cell_type": "code",
   "execution_count": 14,
   "metadata": {},
   "outputs": [],
   "source": [
    "def shift_files():\n",
    "    for hololens in hololenses:\n",
    "        participantList = os.listdir(data_directory + hololens)\n",
    "        for participant in participantList:\n",
    "            print(participant)\n",
    "            if participant == '.DS_Store':\n",
    "                print(\"skipping shifting\")\n",
    "                continue\n",
    "            if os.path.exists(data_directory + hololens + participant + '/shifted/'):\n",
    "                print(\"already shifted\")\n",
    "                continue\n",
    "            fileList = os.listdir(data_directory + hololens + participant + '/raw/')\n",
    "            for file in fileList:\n",
    "                if '.csv' in file:\n",
    "                    filePath = data_directory + hololens + participant + '/raw/' + file\n",
    "                    data_df = pd.read_csv(filePath)\n",
    "                    cleaned_df = clean_df(data_df)\n",
    "                    [shiftIndex, shifted_df] = find_best_shifted_df(cleaned_df)\n",
    "                    filePrefix = file.split('.')[0]\n",
    "                    if not os.path.exists(data_directory + hololens + participant + '/shifted/'):\n",
    "                        os.mkdir(data_directory + hololens + participant + '/shifted')\n",
    "                    shiftedOutputFilePath = data_directory + hololens + participant + '/shifted/' + filePrefix + '_shifted' + str(shiftIndex) + '.csv'\n",
    "                    shifted_df.to_csv(shiftedOutputFilePath, index=False)"
   ]
  },
  {
   "cell_type": "code",
   "execution_count": 24,
   "metadata": {},
   "outputs": [
    {
     "name": "stdout",
     "output_type": "stream",
     "text": [
      "03\n",
      "already shifted\n",
      "04\n",
      "already shifted\n",
      "32\n",
      "already shifted\n",
      "34\n",
      "already shifted\n",
      "05\n",
      "already shifted\n",
      "02\n",
      "already shifted\n",
      ".DS_Store\n",
      "skipping shifting\n",
      "18\n",
      "already shifted\n",
      "27\n",
      "already shifted\n",
      "29\n",
      "already shifted\n",
      "10\n",
      "already shifted\n",
      "19\n",
      "already shifted\n",
      "43\n",
      "already shifted\n",
      "07\n",
      "already shifted\n",
      "36\n",
      "already shifted\n",
      "09\n",
      "already shifted\n",
      "37\n",
      "already shifted\n",
      "08\n",
      "already shifted\n",
      "01\n",
      "already shifted\n",
      "06\n",
      "already shifted\n",
      "39\n",
      "already shifted\n",
      "46\n",
      "already shifted\n",
      "41\n",
      "already shifted\n",
      "49\n",
      "already shifted\n",
      "47\n",
      "already shifted\n",
      "25\n",
      "already shifted\n",
      "50\n",
      "already shifted\n",
      "35\n",
      "already shifted\n",
      "51\n",
      "33\n",
      "already shifted\n",
      ".DS_Store\n",
      "skipping shifting\n",
      "20\n",
      "already shifted\n",
      "11\n",
      "already shifted\n",
      "16\n",
      "already shifted\n",
      "42\n",
      "already shifted\n",
      "45\n",
      "already shifted\n",
      "28\n",
      "already shifted\n",
      "17\n",
      "already shifted\n",
      "26\n",
      "already shifted\n",
      "21\n",
      "already shifted\n",
      "44\n",
      "already shifted\n",
      "38\n",
      "already shifted\n",
      "31\n",
      "already shifted\n",
      "30\n",
      "already shifted\n",
      "48\n",
      "already shifted\n",
      "24\n",
      "already shifted\n",
      "23\n",
      "already shifted\n",
      "15\n",
      "already shifted\n",
      "12\n",
      "already shifted\n",
      "40\n",
      "already shifted\n",
      "13\n",
      "already shifted\n",
      "14\n",
      "already shifted\n",
      "22\n",
      "already shifted\n"
     ]
    }
   ],
   "source": [
    "shift_files()"
   ]
  },
  {
   "cell_type": "code",
   "execution_count": 21,
   "metadata": {},
   "outputs": [],
   "source": [
    "#sanity check - make sure you didn't pull the same files twice\n",
    "data_directory_sanity_check = \"../Data/Study/\"\n",
    "hololenses = [\"A/\", \"B/\"]\n",
    "filenameList = []\n",
    "for hololens in hololenses:\n",
    "    participantList = os.listdir(data_directory_sanity_check + hololens)\n",
    "    for participant in participantList:\n",
    "        if not participant == '.DS_Store':\n",
    "            fileList = os.listdir(data_directory_sanity_check + hololens + participant + '/raw/')\n",
    "            for file in fileList:\n",
    "                if not file == '.DS_Store':\n",
    "                    if file in filenameList:\n",
    "                        print(participant + '/raw/' + file)\n",
    "                    else:\n",
    "                        filenameList.append(file)"
   ]
  },
  {
   "cell_type": "code",
   "execution_count": 139,
   "metadata": {},
   "outputs": [],
   "source": [
    "cleaned_df = clean_df(data_df)\n",
    "[shiftIndex, shifted_df] = find_best_shifted_df(cleaned_df)"
   ]
  },
  {
   "cell_type": "code",
   "execution_count": 140,
   "metadata": {},
   "outputs": [],
   "source": [
    "paths = data_file.split('/')\n",
    "filePrefix = paths[-1].split('.')[0]\n",
    "shiftedOutput = filePrefix + '_shifted_' + str(shiftIndex) + '.csv'\n",
    "shiftedOutputFilePath = \"../Data/Pilot/PS13/shifted/\" + shiftedOutput\n",
    "shifted_df.to_csv(shiftedOutputFilePath)"
   ]
  },
  {
   "cell_type": "code",
   "execution_count": 155,
   "metadata": {},
   "outputs": [
    {
     "name": "stderr",
     "output_type": "stream",
     "text": [
      "/var/folders/fd/prvd78ln6fddqyhkvtndyqb80000gn/T/ipykernel_15295/1494341100.py:2: SettingWithCopyWarning: \n",
      "A value is trying to be set on a copy of a slice from a DataFrame.\n",
      "Try using .loc[row_indexer,col_indexer] = value instead\n",
      "\n",
      "See the caveats in the documentation: https://pandas.pydata.org/pandas-docs/stable/user_guide/indexing.html#returning-a-view-versus-a-copy\n",
      "  stripped_df['euclideanDistance'] = np.sqrt(stripped_df.TargetAngleX * stripped_df.TargetAngleX + stripped_df.TargetAngleY * stripped_df.TargetAngleY)\n"
     ]
    }
   ],
   "source": [
    "stripped_df = shifted_df[['Time','Frame','Movement','TargetAngleX','TargetAngleY','GazeAngleX','GazeAngleY','euclideanError']]\n",
    "stripped_df['euclideanDistance'] = np.sqrt(stripped_df.TargetAngleX * stripped_df.TargetAngleX + stripped_df.TargetAngleY * stripped_df.TargetAngleY)\n",
    "sorted_df = stripped_df.sort_values(by='euclideanDistance')\n",
    "\n",
    "sortedOutputFilePath = \"../Data/Pilot/PS13/shifted/\" + filePrefix + \"_shifted_\" + str(shiftIndex) + \"_sorted.csv\"\n",
    "sorted_df.to_csv(sortedOutputFilePath)"
   ]
  },
  {
   "cell_type": "code",
   "execution_count": 154,
   "metadata": {},
   "outputs": [
    {
     "data": {
      "text/plain": [
       "[<matplotlib.lines.Line2D at 0x7f8517de8f10>]"
      ]
     },
     "execution_count": 154,
     "metadata": {},
     "output_type": "execute_result"
    },
    {
     "data": {
      "image/png": "[encoded data removed]",
      "text/plain": [
       "<Figure size 432x288 with 1 Axes>"
      ]
     },
     "metadata": {
      "needs_background": "light"
     },
     "output_type": "display_data"
    }
   ],
   "source": [
    "plt.plot(sorted_df['euclideanDistance'], sorted_df['euclideanError'], linestyle=\"None\", marker='.')"
   ]
  },
  {
   "cell_type": "code",
   "execution_count": 158,
   "metadata": {},
   "outputs": [
    {
     "data": {
      "text/plain": [
       "(0.021698723751992242, 0.13771398653534753)"
      ]
     },
     "execution_count": 158,
     "metadata": {},
     "output_type": "execute_result"
    }
   ],
   "source": [
    "pearsonr(sorted_df['euclideanDistance'], sorted_df['euclideanError'])"
   ]
  },
  {
   "cell_type": "code",
   "execution_count": 164,
   "metadata": {},
   "outputs": [
    {
     "name": "stdout",
     "output_type": "stream",
     "text": [
      "['.DS_Store', 'shifted', 'raw']\n"
     ]
    }
   ],
   "source": [
    "test_directory = \"../Data/Pilot/PS13/\"\n",
    "print(os.listdir(test_directory))"
   ]
  },
  {
   "cell_type": "code",
   "execution_count": 75,
   "metadata": {},
   "outputs": [
    {
     "name": "stdout",
     "output_type": "stream",
     "text": [
      "    a  TargetAngleX  TargetAngleY  GazeAngleX  GazeAngleY\n",
      "1   6             7             8           9          10\n",
      "2  11            12            13          14          15\n",
      "3  16            17            18          19          20\n",
      "    a  TargetAngleX  TargetAngleY  GazeAngleX  GazeAngleY\n",
      "0   1             2             3           4           5\n",
      "1   6             7             8           9          10\n",
      "2  11            12            13          14          15\n",
      "3  16            17            18          19          20\n",
      "shifting\n",
      "1\n",
      "3\n",
      "3\n",
      "3\n",
      "3\n",
      "    a  TargetAngleX  TargetAngleY  GazeAngleX  GazeAngleY\n",
      "0   6             2             3           9          10\n",
      "1  11             7             8          14          15\n",
      "2  16            12            13          19          20\n"
     ]
    }
   ],
   "source": [
    "test_data = [[1,2,3,4,5],[6,7,8,9,10],[11,12,13,14,15],[16,17,18,19,20]]\n",
    "df = pd.DataFrame(test_data, columns=['a','TargetAngleX','TargetAngleY','GazeAngleX','GazeAngleY'])\n",
    "test_shifted_df = df.loc[1:]\n",
    "print(test_shifted_df)\n",
    "print(df)\n",
    "test_shifted = shift_df(df, 1)\n",
    "#print(df)\n",
    "print(test_shifted)"
   ]
  }
 ],
 "metadata": {
  "kernelspec": {
   "display_name": "base",
   "language": "python",
   "name": "python3"
  },
  "language_info": {
   "codemirror_mode": {
    "name": "ipython",
    "version": 3
   },
   "file_extension": ".py",
   "mimetype": "text/x-python",
   "name": "python",
   "nbconvert_exporter": "python",
   "pygments_lexer": "ipython3",
   "version": "3.8.5"
  },
  "orig_nbformat": 4
 },
 "nbformat": 4,
 "nbformat_minor": 2
}
